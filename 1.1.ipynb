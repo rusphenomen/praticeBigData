{
 "cells": [
  {
   "cell_type": "code",
   "execution_count": 1,
   "id": "f26b0225-41df-434b-837d-b9fdcbf65f44",
   "metadata": {},
   "outputs": [],
   "source": [
    "from pyspark.sql import SparkSession\n",
    "from pyspark.sql import functions as F\n",
    "from pyspark.sql.functions import current_timestamp\n",
    "from pathlib import Path\n",
    "import time"
   ]
  },
  {
   "cell_type": "code",
   "execution_count": 2,
   "id": "a69c735e-2bc9-47a1-89ba-20ac59c4d06f",
   "metadata": {},
   "outputs": [],
   "source": [
    "spark = SparkSession \\\n",
    ".builder \\\n",
    ".appName(\"App\") \\\n",
    ".master(\"local[*]\") \\\n",
    ".getOrCreate()"
   ]
  },
  {
   "cell_type": "code",
   "execution_count": 5,
   "id": "543cacf9-28a0-47ec-87fc-380a5f0ca21f",
   "metadata": {},
   "outputs": [],
   "source": [
    "from pyspark.sql.types import StructType, StructField, DateType, IntegerType, StringType, TimestampType, FloatType"
   ]
  },
  {
   "cell_type": "code",
   "execution_count": 6,
   "id": "a3ccd409-c4ad-48cc-9244-b944655aabe8",
   "metadata": {},
   "outputs": [],
   "source": [
    "# Определение схем\n",
    "schema_ft_posting_f = StructType([\n",
    "    StructField(\"oper_date\", DateType(), nullable=False),\n",
    "    StructField(\"credit_account_rk\", IntegerType(), nullable=False),\n",
    "    StructField(\"debet_account_rk\", IntegerType(), nullable=False),\n",
    "    StructField(\"credit_amount\", FloatType()),\n",
    "    StructField(\"debet_amount\", FloatType())\n",
    "])\n",
    "\n",
    "schema_ft_balance_f = StructType([\n",
    "    StructField(\"on_date\", DateType(), nullable=False),\n",
    "    StructField(\"account_rk\", IntegerType(), nullable=False),\n",
    "    StructField(\"currency_rk\", IntegerType(), nullable=False),\n",
    "    StructField(\"balance_out\", FloatType(), nullable=False)\n",
    "])\n",
    "\n",
    "schema_md_exchange_rate_d = StructType([\n",
    "    StructField(\"data_actual_date\", DateType(), nullable=False),\n",
    "    StructField(\"currency_rk\", IntegerType(), nullable=False),\n",
    "    StructField(\"reduced_rate\", FloatType()),\n",
    "    StructField(\"code_iso_num\", StringType())\n",
    "])\n",
    "\n",
    "schema_md_ledger_account_s = StructType([\n",
    "    StructField(\"ledger_account\", StringType(), nullable=False),\n",
    "    StructField(\"start_date\", DateType(), nullable=False),\n",
    "    StructField(\"end_date\", DateType()),\n",
    "    StructField(\"chapter\", StringType()),\n",
    "    StructField(\"account_name\", StringType())\n",
    "])\n",
    "\n",
    "schema_md_account_d = StructType([\n",
    "    StructField(\"data_actual_date\", DateType(), nullable=False),\n",
    "    StructField(\"data_actual_end_date\", DateType(), nullable=False),\n",
    "    StructField(\"account_rk\", IntegerType(), nullable=False),\n",
    "    StructField(\"account_number\", StringType(), nullable=False),\n",
    "    StructField(\"char_type\", StringType(), nullable=False),\n",
    "    StructField(\"currency_rk\", IntegerType(), nullable=False),\n",
    "    StructField(\"currency_code\", StringType(), nullable=False)\n",
    "])\n",
    "\n",
    "log_schema = StructType([\n",
    "    StructField(\"datetime_start\", TimestampType(), nullable=False),\n",
    "    StructField(\"datetime_end\", TimestampType(), nullable=True),\n",
    "    StructField(\"name_table\", StringType(), nullable=False)\n",
    "])"
   ]
  },
  {
   "cell_type": "code",
   "execution_count": 7,
   "id": "97b84322-e395-4d34-ab4c-d91512deb00a",
   "metadata": {},
   "outputs": [],
   "source": [
    "# инициализируем логовую таблицу: \n",
    "logs_table = spark.read.csv(\n",
    "    \"/home/jovyan/practice/logs.csv\",\n",
    "    header=True,\n",
    "    schema=log_schema  \n",
    ")"
   ]
  },
  {
   "cell_type": "code",
   "execution_count": 17,
   "id": "bdf9cce1-1a7b-4baf-875c-235addac00d2",
   "metadata": {},
   "outputs": [
    {
     "name": "stdout",
     "output_type": "stream",
     "text": [
      "Обработка таблицы md_account_d завершена\n",
      "Обработка таблицы md_currency_d завершена\n",
      "Обработка таблицы md_exchange_rate_d завершена\n",
      "Обработка таблицы ft_balance_f завершена\n",
      "Обработка таблицы ft_posting_f завершена\n",
      "Обработка таблицы md_ledger_account_s завершена\n"
     ]
    }
   ],
   "source": [
    "table_paths = [\n",
    "    \"/home/jovyan/practice/data/md_account_d.csv\",\n",
    "    \"/home/jovyan/practice/data/md_currency_d.csv\", \n",
    "    \"/home/jovyan/practice/data/md_exchange_rate_d.csv\",\n",
    "    \"/home/jovyan/practice/data/ft_balance_f.csv\",\n",
    "    \"/home/jovyan/practice/data/ft_posting_f.csv\",\n",
    "    \"/home/jovyan/practice/data/md_ledger_account_s.csv\"\n",
    "]\n",
    "\n",
    "for source_path in table_paths:\n",
    "    # Фиксируем время начала\n",
    "    time_start = spark.sql(\"SELECT current_timestamp()\").collect()[0][0]\n",
    "    \n",
    "    if \"ft_posting_f\" in source_path:\n",
    "        schema = schema_ft_posting_f\n",
    "    elif \"ft_balance_f\" in source_path:\n",
    "        schema = schema_ft_balance_f\n",
    "    elif \"md_exchange_rate_d\" in source_path:\n",
    "        schema = schema_md_exchange_rate_d\n",
    "    elif \"md_ledger_account_s\" in source_path:\n",
    "        schema = schema_md_ledger_account_s\n",
    "    elif \"md_account_d\" in source_path:\n",
    "        schema = schema_md_account_d\n",
    "    \n",
    "    # Чтение данных\n",
    "    df = spark.read.csv(\n",
    "        source_path,\n",
    "        schema=schema,\n",
    "        header=True,\n",
    "        sep=\";\"\n",
    "    )\n",
    "    \n",
    "    # Имитация обработки\n",
    "    time.sleep(5)\n",
    "    \n",
    "    # Фиксируем время окончания\n",
    "    time_end = spark.sql(\"SELECT current_timestamp()\").collect()[0][0]\n",
    "    \n",
    "    # Получаем имя таблицы из пути\n",
    "    target_table_name = Path(source_path.rstrip('/')).stem\n",
    "    \n",
    "    # Создаем запись в лог\n",
    "    start_log_df = spark.createDataFrame(\n",
    "        [(time_start, time_end, target_table_name)],\n",
    "        schema=log_schema\n",
    "    )\n",
    "    \n",
    "    # Обновляем таблицу логов\n",
    "    updated_logs_table = logs_table.union(start_log_df)\n",
    "    \n",
    "    # Сохраняем логи\n",
    "    updated_logs_table.coalesce(1).write.csv(\n",
    "        \"/home/jovyan/practice/logs_tmp\",\n",
    "        header=True,\n",
    "        mode=\"append\"\n",
    "    )\n",
    "    \n",
    "    # Сохраняем данные в parquet\n",
    "    output_path = f\"/home/jovyan/practice/data/{target_table_name}\"\n",
    "    df.write.parquet(output_path, mode=\"overwrite\")\n",
    "    \n",
    "    print(f\"Обработка таблицы {target_table_name} завершена\")"
   ]
  },
  {
   "cell_type": "code",
   "execution_count": null,
   "id": "10cde3b3-3a6f-405e-8497-c121e445929a",
   "metadata": {},
   "outputs": [],
   "source": [
    "parquet_df = spark.read.parquet(\"/home/jovyan/practice/data/md_account_d\")"
   ]
  },
  {
   "cell_type": "code",
   "execution_count": null,
   "id": "a04dd7c4-4898-4238-87c2-8bc6813b77e3",
   "metadata": {},
   "outputs": [],
   "source": [
    "parquet_df.printSchema()"
   ]
  },
  {
   "cell_type": "code",
   "execution_count": null,
   "id": "fb8f2d3a-190a-42f6-8f58-38d600a5166d",
   "metadata": {},
   "outputs": [],
   "source": [
    "parquet_df.show(5)"
   ]
  },
  {
   "cell_type": "code",
   "execution_count": null,
   "id": "ec9fe436-eb11-4e1c-a6c0-8744a3969fb4",
   "metadata": {},
   "outputs": [],
   "source": [
    "# апдейт стратегия"
   ]
  },
  {
   "cell_type": "code",
   "execution_count": null,
   "id": "b3ba5894-b4ff-4955-bc07-f42836d2b619",
   "metadata": {},
   "outputs": [],
   "source": [
    "existing_df = spark.read.parquet(\"/home/jovyan/practice/data/md_account_d\")"
   ]
  },
  {
   "cell_type": "code",
   "execution_count": null,
   "id": "2bd3c3f7-1e4d-4dc8-a537-df7c655f4dae",
   "metadata": {},
   "outputs": [],
   "source": [
    "# ключ прописываем - account rk\n",
    "# изменим у account rk 34156787 currency_code на 228\n",
    "updates_df = spark.createDataFrame([\n",
    "    (\"2018-01-01\",\t\"2018-01-31\",\t34156787, \"30236826400000009001\",\t\"П\",\t31,\t\"228\"),\n",
    "], [\"DATA_ACTUAL_DATE\",\t\"DATA_ACTUAL_END_DATE\", \"ACCOUNT_RK\",\"ACCOUNT_NUMBER\", \"CHAR_TYPE\",\t\"CURRENCY_RK\",\t\"CURRENCY_CODE\"])"
   ]
  },
  {
   "cell_type": "code",
   "execution_count": null,
   "id": "d2d56ee2-c726-4aba-9c0c-6effa3f4293a",
   "metadata": {},
   "outputs": [],
   "source": [
    "df_combined = existing_df.join(\n",
    "    updates_df,\n",
    "    on=\"account_rk\",\n",
    "    how=\"left_anti\"\n",
    ").unionByName(updates_df)"
   ]
  },
  {
   "cell_type": "code",
   "execution_count": null,
   "id": "691921ce-f1de-4957-abdf-84b1fd12a747",
   "metadata": {},
   "outputs": [],
   "source": [
    "df_combined.filter(df_combined.account_rk==34156787).show()"
   ]
  },
  {
   "cell_type": "code",
   "execution_count": null,
   "id": "67973a45-f555-41bc-b0c5-38330a2d3fb2",
   "metadata": {},
   "outputs": [],
   "source": []
  },
  {
   "cell_type": "code",
   "execution_count": null,
   "id": "d5fab0ce-8f34-48f9-830b-f29394a4649b",
   "metadata": {},
   "outputs": [],
   "source": []
  }
 ],
 "metadata": {
  "kernelspec": {
   "display_name": "Python 3 (ipykernel)",
   "language": "python",
   "name": "python3"
  },
  "language_info": {
   "codemirror_mode": {
    "name": "ipython",
    "version": 3
   },
   "file_extension": ".py",
   "mimetype": "text/x-python",
   "name": "python",
   "nbconvert_exporter": "python",
   "pygments_lexer": "ipython3",
   "version": "3.11.6"
  }
 },
 "nbformat": 4,
 "nbformat_minor": 5
}
